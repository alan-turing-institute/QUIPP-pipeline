{
 "cells": [
  {
   "cell_type": "markdown",
   "id": "890a3425",
   "metadata": {},
   "source": [
    "# Synthetic data - ONS 2011 Census 1% microdata sample - phase 1\n",
    "\n",
    "A number of synthetic datasets and notebooks were produced as part of our initial work with this dataset.  This notebook provides a summary.  Contained in this repository are the input files necessary to produce a number synthetic datasets.  The synthetic datasets themselves (the results of running these input files) are shared separately on OneDrive: permission may be needed to view them - please contact one of the team if you require access.\n",
    "\n",
    "## Contents\n",
    "\n",
    "### Notebooks\n",
    "\n",
    "| Notebook |  |\n",
    "| :- | :- |\n",
    "| [Census 2011 Microdata - Synthetic Data Generation with QUIPP.ipynb](./Census%202011%20Microdata%20-%20Synthetic%20Data%20Generation%20with%20QUIPP.ipynb) | Notebook walkthrough of running QUIPP and its various input and output files |\n",
    "| [Synthetic datasets comparison.ipynb](./Synthetic%20datasets%20comparison.ipynb) | Early exploratory comparison of various synthetic datasets by utility and privacy |\n",
    "\n",
    "### Selected datasets and input files\n",
    "\n",
    "| Synthetic dataset (OneDrive link) | Run input file(s) | Description |\n",
    "| :- | :- | :- |\n",
    "| [Synthpop 3]()  |   | Synthetic records produced by independently sampling from each column.  Marginals should therefore be reproduced well, but with no dependence captured between variables. |\n",
    "| [Synthpop 5]()  |   | CART (Classification and Regression Trees) for most columns; sequential synthesis |\n",
    "| [Synthpop 5 + leaked rows]() | | as above, but 1% of the original records leaked in the output |\n",
    "| [Synthpop 7]()  |  | CART (Classification and Regression Trees) for most columns; sequential synthesis with alternate column sequence |\n",
    "| [Synthpop 8]()  |  | CART (Classification and Regression Trees) for most columns; sequential synthesis with column sequence tuned to a particular classification task |\n",
    "| [Synthpop 10]() |  | CART (Classification and Regression Trees) for most columns; synthesis based on the joint distribution |"
   ]
  }
 ],
 "metadata": {
  "kernelspec": {
   "display_name": "Python 3 (ipykernel)",
   "language": "python",
   "name": "python3"
  },
  "language_info": {
   "codemirror_mode": {
    "name": "ipython",
    "version": 3
   },
   "file_extension": ".py",
   "mimetype": "text/x-python",
   "name": "python",
   "nbconvert_exporter": "python",
   "pygments_lexer": "ipython3",
   "version": "3.8.11"
  }
 },
 "nbformat": 4,
 "nbformat_minor": 5
}
