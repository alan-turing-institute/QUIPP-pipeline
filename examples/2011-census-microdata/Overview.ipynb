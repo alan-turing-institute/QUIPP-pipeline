{
 "cells": [
  {
   "cell_type": "markdown",
   "id": "890a3425",
   "metadata": {},
   "source": [
    "# Synthetic data - ONS 2011 Census 1% microdata sample - phase 1\n",
    "\n",
    "A number of synthetic datasets and notebooks were produced as part of our initial work with this dataset.  This notebook provides a summary.  Contained in this repository are the input files necessary to produce a number synthetic datasets.  The synthetic datasets themselves (the results of running these input files) are shared separately on OneDrive: permission may be needed to view them - please contact one of the team if you require access.\n",
    "\n",
    "## Contents\n",
    "\n",
    "### Notebooks\n",
    "\n",
    "| Notebook |  |\n",
    "| :- | :- |\n",
    "| [Overview.ipynb](./Overview.ipynb) | This file |\n",
    "| [Census 2011 Microdata - Synthetic Data Generation with QUIPP.ipynb](./Census%202011%20Microdata%20-%20Synthetic%20Data%20Generation%20with%20QUIPP.ipynb) | Notebook walkthrough of running QUIPP and its various input and output files |\n",
    "| [Synthetic datasets comparison.ipynb](./Synthetic%20datasets%20comparison.ipynb) | Early exploratory comparison of various synthetic datasets by utility and privacy |\n",
    "\n",
    "### Selected synthetic versions of the 1% Census sample, and associated input files\n",
    "\n",
    "| Synthetic dataset (OneDrive link) | Run input file | Description |\n",
    "| :- | :- | :- |\n",
    "| [Synthpop 3](https://thealanturininstitute.sharepoint.com/:x:/r/sites/ONSTuringSyntheticData/Shared%20Documents/General/synth-output/2011-census-test-3-synthpop/synthetic_data_1.csv?d=w243d30c53e7340f28019e2bc32369600&csf=1&web=1&e=9Eyfmx)  | [2011-census-test-3-synthpop.json](../../run-inputs/2011-census-test-3-synthpop.json)| Synthetic records produced by independently sampling from each column.  Marginals should therefore be reproduced well, but with no dependence captured between variables. |\n",
    "| [Synthpop 5](https://thealanturininstitute.sharepoint.com/:x:/r/sites/ONSTuringSyntheticData/Shared%20Documents/General/synth-output/2011-census-test-5-synthpop-cart/synthetic_data_1.csv?d=w0bc58a342a2047398f24873c7e7e2813&csf=1&web=1&e=u2RGBh)  | [2011-census-test-5-synthpop-cart.json](../../run-inputs/2011-census-test-5-synthpop-cart.json)  | CART (Classification and Regression Trees) for most columns; sequential synthesis |\n",
    "| [Synthpop 5 + leaked rows (1%)](https://thealanturininstitute.sharepoint.com/:x:/r/sites/ONSTuringSyntheticData/Shared%20Documents/General/synth-output/2011-census-test-5-synthpop-cart/synth_data_leaked_1.csv?d=w5aa31faba2354521bd6883791d9ebedd&csf=1&web=1&e=BiZVIh) | [2011-census-test-5-synthpop-cart.json](../../run-inputs/2011-census-test-5-synthpop-cart.json) | as above, but 1% of the original records reproduced unchanged in the output, for testing purposes |\n",
    "| [Synthpop 5 + leaked rows (2%)](https://thealanturininstitute.sharepoint.com/:x:/r/sites/ONSTuringSyntheticData/Shared%20Documents/General/synth-output/2011-census-test-5-synthpop-cart/synth_data_leaked_2.csv?d=w41e6e7fc789349de89f2ad9bf5a370a9&csf=1&web=1&e=LSum3J) | [2011-census-test-5-synthpop-cart.json](../../run-inputs/2011-census-test-5-synthpop-cart.json) | as above, but 2% of the original records reproduced unchanged in the output, for testing purposes |\n",
    "| [Synthpop 5 + leaked rows (5%)](https://thealanturininstitute.sharepoint.com/:x:/r/sites/ONSTuringSyntheticData/Shared%20Documents/General/synth-output/2011-census-test-5-synthpop-cart/synth_data_leaked_5.csv?d=wb509e23b02804f488508596d6357b243&csf=1&web=1&e=dTb0C2) | [2011-census-test-5-synthpop-cart.json](../../run-inputs/2011-census-test-5-synthpop-cart.json) | as above, but 5% of the original records reproduced unchanged in the output, for testing purposes |\n",
    "| [Synthpop 7](https://thealanturininstitute.sharepoint.com/:x:/r/sites/ONSTuringSyntheticData/Shared%20Documents/General/synth-output/2011-census-test-5-synthpop-cart/synth_data_leaked_5.csv?d=wb509e23b02804f488508596d6357b243&csf=1&web=1&e=dTb0C2)  | [2011-census-test-7-synthpop-cart-vars-seq-jumbled.json](../../run-inputs/2011-census-test-7-synthpop-cart-vars-seq-jumbled.json) | CART (Classification and Regression Trees) for most columns; sequential synthesis with alternate column sequence |\n",
    "| [Synthpop 8](https://thealanturininstitute.sharepoint.com/:x:/r/sites/ONSTuringSyntheticData/Shared%20Documents/General/synth-output/2011-census-test-5-synthpop-cart/synth_data_leaked_5.csv?d=wb509e23b02804f488508596d6357b243&csf=1&web=1&e=dTb0C2)  | [2011-census-test-8-synthpop-cart-vars-seq-optimised.json](../../run-inputs/2011-census-test-8-synthpop-cart-vars-seq-optimised.json) | CART (Classification and Regression Trees) for most columns; sequential synthesis with column sequence tuned to a particular classification task (see [Synthetic datasets comparison.ipynb](./Synthetic%20datasets%20comparison.ipynb)) |\n",
    "| [Synthpop 10](https://thealanturininstitute.sharepoint.com/:x:/r/sites/ONSTuringSyntheticData/Shared%20Documents/General/synth-output/2011-census-test-5-synthpop-cart/synth_data_leaked_5.csv?d=wb509e23b02804f488508596d6357b243&csf=1&web=1&e=dTb0C2) | [2011-census-test-10-synthpop-cart-proper.json](../../run-inputs/2011-census-test-10-synthpop-cart-proper.json) | CART (Classification and Regression Trees) for most columns; synthesis based on the joint distribution |"
   ]
  }
 ],
 "metadata": {
  "kernelspec": {
   "display_name": "Python 3 (ipykernel)",
   "language": "python",
   "name": "python3"
  },
  "language_info": {
   "codemirror_mode": {
    "name": "ipython",
    "version": 3
   },
   "file_extension": ".py",
   "mimetype": "text/x-python",
   "name": "python",
   "nbconvert_exporter": "python",
   "pygments_lexer": "ipython3",
   "version": "3.8.11"
  }
 },
 "nbformat": 4,
 "nbformat_minor": 5
}
