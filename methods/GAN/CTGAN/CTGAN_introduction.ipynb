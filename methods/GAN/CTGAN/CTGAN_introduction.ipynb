{
 "cells": [
  {
   "cell_type": "markdown",
   "metadata": {},
   "source": [
    "# CTGAN, introduction\n",
    "\n",
    "This notebook extensively uses the CTGAN codes in https://github.com/DAI-Lab/CTGAN. "
   ]
  },
  {
   "cell_type": "markdown",
   "metadata": {},
   "source": [
    "## Step 1: Prepare your data"
   ]
  },
  {
   "cell_type": "code",
   "execution_count": 1,
   "metadata": {},
   "outputs": [],
   "source": [
    "import sys\n",
    "# Clone https://github.com/DAI-Lab/CTGAN\n",
    "# Add path here:\n",
    "sys.path.append('/Users/khosseini/myJobs/ATI/Projects/2019/QUIPP/CTGAN')"
   ]
  },
  {
   "cell_type": "code",
   "execution_count": 2,
   "metadata": {},
   "outputs": [],
   "source": [
    "from ctgan.data import read_csv"
   ]
  },
  {
   "cell_type": "code",
   "execution_count": 3,
   "metadata": {},
   "outputs": [],
   "source": [
    "# Path to CSV and JSON files\n",
    "# The Metadata file will be in JSON format, containing an entry called columns, with a list of sub-documents containing both the name of the column and its type.\n",
    "# **Column types can be continuous for continuous columns and categorical, ordinal or discrete for non-continuous columns.**\n",
    "\n",
    "\"\"\"\n",
    "Simple code to generate isg_region2.json file for ONS dataset:\n",
    "for mycol in [\"caseno\",\"country\",\"region\",\"add1yr\",\"age\",\"agehrp\",\"aggdtwpew11g\",\"ahchuk11\",\"carer\",\"carsnoc\",\"cenheat\",\"clients01\",\"clients02\",\"clients03\",\"clients04\",\"clients05\",\"clients06\",\"clients07\",\"clients08\",\"clients09\",\"clients10\",\"clients11\",\"clients12\",\"clients13\",\"clients14\",\"clients15\",\"clients16\",\"clients17\",\"clients18\",\"clients19\",\"clients20\",\"clients21\",\"cobg\",\"cobhukrc\",\"concealed\",\"depedhuk11\",\"depemhuk11\",\"dephdhuk11\",\"dephshuk11\",\"deprived\",\"disability\",\"dpcfamuk11\",\"ecopuk\",\"empstat\",\"estnaturei\",\"ethhuk11\",\"ethnicityew\",\"everwork\",\"fmspuk11\",\"health\",\"hhldlang11\",\"hlqupuk11\",\"hours\",\"housecarer\",\"identity\",\"illhuk11g\",\"indgpuk11\",\"intention\",\"iscog\",\"landlordew\",\"langprf\",\"larpuk\",\"lastyrwrkg\",\"mainglangg\",\"marstat\",\"meighuk11\",\"mighuk11\",\"mltrlg\",\"movefromg\",\"moveregion\",\"natidbpuk11\",\"natidepuk11\",\"natidipuk11\",\"natidnipuk11\",\"natidopuk11\",\"natidspuk11\",\"natidwpuk11\",\"nssec\",\"nsshuk11\",\"occg\",\"passports\",\"penexactpuk11\",\"penhuk11\",\"penpuk11\",\"popbasesec\",\"position\",\"pproomhuk11\",\"psptelog\",\"relato\",\"religionew\",\"residtype\",\"rtntypeg\",\"samesex\",\"scaddtyp\",\"scghuk11\",\"scgpuk11c\",\"selfcon\",\"sex\",\"single\",\"sizhuk\",\"socmin\",\"sscaddcpew11\",\"stapuk11\",\"student\",\"supervisor\",\"tenduk11\",\"tenure\",\"transport\",\"typaccom\",\"unemphist\",\"visitorsg\",\"wg1famuk11\",\"wkpladdewni\",\"wlshread\",\"wlshspeak\",\"wlshstnd\",\"wlshwrit\",\"wpzhome\",\"wrkplaceew\",\"yradindstud\",\"yrarryearg\"\n",
    "]:\n",
    "    print(\"{\")\n",
    "    print(f'    \"name\": \"{mycol}\",')\n",
    "    print('    \"type\": \"categorical\"')\n",
    "    print(\"},\")\n",
    "\"\"\"\n",
    "\n",
    "\n",
    "# Adult census data\n",
    "#csv_filename=\"/Users/khosseini/myJobs/ATI/Projects/2019/QUIPP/CTGAN/examples/csv/adult.csv\"\n",
    "#meta_filename=\"/Users/khosseini/myJobs/ATI/Projects/2019/QUIPP/CTGAN/examples/csv/adult.json\"\n",
    "\n",
    "csv_filename=\"./data/UKDA-7605-csv/csv/isg_regionv2.csv\"\n",
    "meta_filename=\"./data/UKDA-7605-csv/csv/isg_region2.json\"\n",
    "\n",
    "num_samples_from_data = 1000         # None: use all\n",
    "num_syn_samples_to_generate = 1000   \n",
    "random_state = 10\n",
    "\n",
    "num_epochs = 5"
   ]
  },
  {
   "cell_type": "code",
   "execution_count": 4,
   "metadata": {},
   "outputs": [],
   "source": [
    "data, discrete_columns = read_csv(csv_filename=csv_filename, meta_filename=meta_filename)"
   ]
  },
  {
   "cell_type": "code",
   "execution_count": 5,
   "metadata": {},
   "outputs": [
    {
     "name": "stdout",
     "output_type": "stream",
     "text": [
      "[INFO] Data has 2848155 columns, read from ./data/UKDA-7605-csv/csv/isg_regionv2.csv\n"
     ]
    }
   ],
   "source": [
    "print(f\"[INFO] Data has {len(data)} columns, read from {csv_filename}\")"
   ]
  },
  {
   "cell_type": "code",
   "execution_count": 6,
   "metadata": {},
   "outputs": [
    {
     "name": "stdout",
     "output_type": "stream",
     "text": [
      "[INFO] Sample 1000 from data!\n"
     ]
    }
   ],
   "source": [
    "if num_samples_from_data:\n",
    "    print(f\"[INFO] Sample {num_samples_from_data} from data!\")\n",
    "    data_sample = data.sample(n=num_samples_from_data, \n",
    "                              random_state=random_state)\n",
    "else:\n",
    "    data_sample = data"
   ]
  },
  {
   "cell_type": "code",
   "execution_count": 16,
   "metadata": {},
   "outputs": [
    {
     "name": "stdout",
     "output_type": "stream",
     "text": [
      "             caseno      country       region       add1yr          age  \\\n",
      "count  1.000000e+03  1000.000000  1000.000000  1000.000000  1000.000000   \n",
      "mean   1.426171e+06     1.049000     5.998000     0.869000    39.316000   \n",
      "std    8.112615e+05     0.215976     3.029385     1.818556    22.956026   \n",
      "min    6.430000e+03     1.000000     1.000000    -9.000000     0.000000   \n",
      "25%    7.488935e+05     1.000000     3.000000     1.000000    20.750000   \n",
      "50%    1.408180e+06     1.000000     6.000000     1.000000    39.000000   \n",
      "75%    2.110063e+06     1.000000     9.000000     1.000000    56.000000   \n",
      "max    2.839108e+06     2.000000    11.000000     4.000000    90.000000   \n",
      "\n",
      "            agehrp  aggdtwpew11g     ahchuk11        carer      carsnoc  ...  \\\n",
      "count  1000.000000   1000.000000  1000.000000  1000.000000  1000.000000  ...   \n",
      "mean     47.643000     -2.902000     6.228000     1.004000     1.153000  ...   \n",
      "std      17.666456      6.692323     3.530507     1.388493     1.812975  ...   \n",
      "min      -9.000000     -9.000000    -9.000000    -9.000000    -9.000000  ...   \n",
      "25%      37.000000     -9.000000     5.000000     1.000000     1.000000  ...   \n",
      "50%      47.000000     -9.000000     6.000000     1.000000     1.000000  ...   \n",
      "75%      59.000000      3.000000     9.000000     1.000000     2.000000  ...   \n",
      "max      90.000000     12.000000    10.000000     4.000000     4.000000  ...   \n",
      "\n",
      "        wg1famuk11  wkpladdewni     wlshread    wlshspeak     wlshstnd  \\\n",
      "count  1000.000000  1000.000000  1000.000000  1000.000000  1000.000000   \n",
      "mean     -1.066000    -4.171000    -8.553000    -8.552000    -8.550000   \n",
      "std       4.334332     5.137329     1.971567     1.976158     1.985306   \n",
      "min      -9.000000    -9.000000    -9.000000    -9.000000    -9.000000   \n",
      "25%       0.000000    -9.000000    -9.000000    -9.000000    -9.000000   \n",
      "50%       1.000000    -9.000000    -9.000000    -9.000000    -9.000000   \n",
      "75%       2.000000     1.000000    -9.000000    -9.000000    -9.000000   \n",
      "max       2.000000     5.000000     1.000000     1.000000     1.000000   \n",
      "\n",
      "          wlshwrit      wpzhome   wrkplaceew  yradindstud   yrarryearg  \n",
      "count  1000.000000  1000.000000  1000.000000  1000.000000  1000.000000  \n",
      "mean     -8.554000    -3.278000    -3.258000    -0.268000    -6.799000  \n",
      "std       1.966965     6.100978     6.118731     1.537055     5.651596  \n",
      "min      -9.000000    -9.000000    -9.000000    -9.000000    -9.000000  \n",
      "25%      -9.000000    -9.000000    -9.000000     0.000000    -9.000000  \n",
      "50%      -9.000000    -9.000000    -9.000000     0.000000    -9.000000  \n",
      "75%      -9.000000     3.000000     3.000000     0.000000    -9.000000  \n",
      "max       1.000000     5.000000     6.000000     1.000000    11.000000  \n",
      "\n",
      "[8 rows x 121 columns]\n"
     ]
    }
   ],
   "source": [
    "print(data_sample.describe())"
   ]
  },
  {
   "cell_type": "code",
   "execution_count": 7,
   "metadata": {},
   "outputs": [
    {
     "name": "stdout",
     "output_type": "stream",
     "text": [
      "['caseno', 'country', 'region', 'add1yr', 'age', 'agehrp', 'aggdtwpew11g', 'ahchuk11', 'carer', 'carsnoc', 'cenheat', 'clients01', 'clients02', 'clients03', 'clients04', 'clients05', 'clients06', 'clients07', 'clients08', 'clients09', 'clients10', 'clients11', 'clients12', 'clients13', 'clients14', 'clients15', 'clients16', 'clients17', 'clients18', 'clients19', 'clients20', 'clients21', 'cobg', 'cobhukrc', 'concealed', 'depedhuk11', 'depemhuk11', 'dephdhuk11', 'dephshuk11', 'deprived', 'disability', 'dpcfamuk11', 'ecopuk', 'empstat', 'estnaturei', 'ethhuk11', 'ethnicityew', 'everwork', 'fmspuk11', 'health', 'hhldlang11', 'hlqupuk11', 'hours', 'housecarer', 'identity', 'illhuk11g', 'indgpuk11', 'intention', 'iscog', 'landlordew', 'langprf', 'larpuk', 'lastyrwrkg', 'mainglangg', 'marstat', 'meighuk11', 'mighuk11', 'mltrlg', 'movefromg', 'moveregion', 'natidbpuk11', 'natidepuk11', 'natidipuk11', 'natidnipuk11', 'natidopuk11', 'natidspuk11', 'natidwpuk11', 'nssec', 'nsshuk11', 'occg', 'passports', 'penexactpuk11', 'penhuk11', 'penpuk11', 'popbasesec', 'position', 'pproomhuk11', 'psptelog', 'relato', 'religionew', 'residtype', 'rtntypeg', 'samesex', 'scaddtyp', 'scghuk11', 'scgpuk11c', 'selfcon', 'sex', 'single', 'sizhuk', 'socmin', 'sscaddcpew11', 'stapuk11', 'student', 'supervisor', 'tenduk11', 'tenure', 'transport', 'typaccom', 'unemphist', 'visitorsg', 'wg1famuk11', 'wkpladdewni', 'wlshread', 'wlshspeak', 'wlshstnd', 'wlshwrit', 'wpzhome', 'wrkplaceew', 'yradindstud', 'yrarryearg']\n"
     ]
    }
   ],
   "source": [
    "print(discrete_columns)"
   ]
  },
  {
   "cell_type": "markdown",
   "metadata": {},
   "source": [
    "## Step 2: Fit CTGAN to your data"
   ]
  },
  {
   "cell_type": "code",
   "execution_count": 8,
   "metadata": {},
   "outputs": [],
   "source": [
    "from ctgan.synthesizer import CTGANSynthesizer"
   ]
  },
  {
   "cell_type": "code",
   "execution_count": 9,
   "metadata": {},
   "outputs": [],
   "source": [
    "ctgan = CTGANSynthesizer()"
   ]
  },
  {
   "cell_type": "code",
   "execution_count": 10,
   "metadata": {},
   "outputs": [
    {
     "name": "stdout",
     "output_type": "stream",
     "text": [
      "<ctgan.synthesizer.CTGANSynthesizer object at 0x1a283325f8>\n"
     ]
    }
   ],
   "source": [
    "print(ctgan)"
   ]
  },
  {
   "cell_type": "code",
   "execution_count": 11,
   "metadata": {},
   "outputs": [
    {
     "name": "stdout",
     "output_type": "stream",
     "text": [
      "[INFO] Start fitting the model, total number of epochs: 5\n"
     ]
    }
   ],
   "source": [
    "print(f\"[INFO] Start fitting the model, total number of epochs: {num_epochs}\")"
   ]
  },
  {
   "cell_type": "code",
   "execution_count": 12,
   "metadata": {},
   "outputs": [
    {
     "name": "stdout",
     "output_type": "stream",
     "text": [
      "Epoch 1, Loss G: 1.9889, Loss D: -0.3012\n",
      "Epoch 2, Loss G: 2.4794, Loss D: -1.2935\n",
      "Epoch 3, Loss G: 2.9881, Loss D: -2.7709\n",
      "Epoch 4, Loss G: 3.6559, Loss D: -4.2462\n",
      "Epoch 5, Loss G: 4.1309, Loss D: -5.3237\n"
     ]
    }
   ],
   "source": [
    "ctgan.fit(data_sample, discrete_columns, epochs=num_epochs)"
   ]
  },
  {
   "cell_type": "markdown",
   "metadata": {},
   "source": [
    "Once the process has finished, all you need to do is call the sample method of your CTGANSynthesizer instance indicating the number of rows that you want to generate."
   ]
  },
  {
   "cell_type": "code",
   "execution_count": 13,
   "metadata": {},
   "outputs": [],
   "source": [
    "samples = ctgan.sample(10000)"
   ]
  },
  {
   "cell_type": "code",
   "execution_count": 15,
   "metadata": {},
   "outputs": [
    {
     "name": "stdout",
     "output_type": "stream",
     "text": [
      "    caseno  country  region  add1yr  age  agehrp  aggdtwpew11g  ahchuk11  \\\n",
      "0  1109542        1       8       1   52      46            11         6   \n",
      "1  2766650        1      11       4   14      64             7        10   \n",
      "2  2117737        1       5       1   37      56             8         7   \n",
      "3  2391385        1       3       2   10      68             8         2   \n",
      "4   180345        1       4       2   37      31            -9        -9   \n",
      "\n",
      "   carer  carsnoc  ...  wg1famuk11  wkpladdewni  wlshread  wlshspeak  \\\n",
      "0      1        1  ...           1            2        -9         -9   \n",
      "1      4        3  ...           0            4        -9         -9   \n",
      "2      1        4  ...           0            3         0         -9   \n",
      "3      1        2  ...          -9            2        -9          1   \n",
      "4      4        2  ...           2           -9         0         -9   \n",
      "\n",
      "   wlshstnd  wlshwrit  wpzhome  wrkplaceew  yradindstud  yrarryearg  \n",
      "0         1         1       -9           2            1          10  \n",
      "1         1         1       -9           6            0          10  \n",
      "2         1         1       -9          -9            0          10  \n",
      "3        -9         0        5           2            1          -9  \n",
      "4         1        -9        1           6           -9          11  \n",
      "\n",
      "[5 rows x 121 columns]\n"
     ]
    }
   ],
   "source": [
    "print(samples.head())"
   ]
  },
  {
   "cell_type": "markdown",
   "metadata": {},
   "source": [
    "NOTE: CTGAN does not distinguish between float and integer columns, which means that it will sample float values in all cases. If integer values are required, the outputted float values must be rounded to integers in a later step, outside of CTGAN."
   ]
  },
  {
   "cell_type": "markdown",
   "metadata": {},
   "source": [
    "## Simple evaluation"
   ]
  },
  {
   "cell_type": "code",
   "execution_count": 18,
   "metadata": {},
   "outputs": [
    {
     "data": {
      "text/plain": [
       "<matplotlib.axes._subplots.AxesSubplot at 0x1a29220080>"
      ]
     },
     "execution_count": 18,
     "metadata": {},
     "output_type": "execute_result"
    },
    {
     "data": {
      "image/png": "[encoded data removed]",
      "text/plain": [
       "<Figure size 432x288 with 1 Axes>"
      ]
     },
     "metadata": {
      "needs_background": "light"
     },
     "output_type": "display_data"
    }
   ],
   "source": [
    "samples['region'].hist(density=True, alpha=0.4, bins=range(0, 10), color='r')\n",
    "data_sample['region'].hist(density=True, alpha=0.4, bins=range(0, 10), color='k')"
   ]
  },
  {
   "cell_type": "code",
   "execution_count": null,
   "metadata": {},
   "outputs": [],
   "source": []
  },
  {
   "cell_type": "code",
   "execution_count": null,
   "metadata": {},
   "outputs": [],
   "source": []
  }
 ],
 "metadata": {
  "kernelspec": {
   "display_name": "Python 3",
   "language": "python",
   "name": "python3"
  },
  "language_info": {
   "codemirror_mode": {
    "name": "ipython",
    "version": 3
   },
   "file_extension": ".py",
   "mimetype": "text/x-python",
   "name": "python",
   "nbconvert_exporter": "python",
   "pygments_lexer": "ipython3",
   "version": "3.7.1"
  }
 },
 "nbformat": 4,
 "nbformat_minor": 2
}
